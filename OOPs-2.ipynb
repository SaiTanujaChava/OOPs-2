{
 "cells": [
  {
   "cell_type": "markdown",
   "metadata": {},
   "source": [
    "# Topics"
   ]
  },
  {
   "cell_type": "markdown",
   "metadata": {},
   "source": [
    "1. Inheritance\n",
    "2. Has-A Relationship\n",
    "3. Is-A Relationship\n",
    "4. Is-A Vs Has-A Relationship\n",
    "5. Composition Vs Aggregation\n",
    "6. Types of Inheritance:\n",
    "    1. Singlelevel Inheritance\n",
    "    2. Multilevel Inheritance\n",
    "    3. Hierarchical Inheritance\n",
    "    4. Multiple Inheritance\n",
    "    5. Hybrid Inheritance\n",
    "    6. cyclic Inheritance\n",
    "7. Method Resolution Order (MRO)\n",
    "8. super() Method"
   ]
  },
  {
   "cell_type": "markdown",
   "metadata": {},
   "source": [
    "## 1. Inheritance"
   ]
  },
  {
   "cell_type": "markdown",
   "metadata": {},
   "source": [
    "- Using members of one class inside another class is called as Inheritance.\n",
    "- We can achieve in 2 ways:\n",
    "    1. By Composition (Has-A Relationship)\n",
    "    2. By Inheritance (Is-A Relationship)"
   ]
  },
  {
   "cell_type": "markdown",
   "metadata": {},
   "source": [
    "### 1. By Composition (Has-A Relationship)"
   ]
  },
  {
   "cell_type": "markdown",
   "metadata": {},
   "source": [
    "- By using class name or by creating object we can access members of one class in another class is called Composition.\n",
    "- Advantage of Composition(Has-A Relationship) : Code Reusability."
   ]
  },
  {
   "cell_type": "code",
   "execution_count": 1,
   "metadata": {},
   "outputs": [
    {
     "name": "stdout",
     "output_type": "stream",
     "text": [
      "Car class is using engine class functionality\n",
      "10\n",
      "20\n",
      "Engine is an main part of car\n"
     ]
    }
   ],
   "source": [
    "#Example pgm for Has-A Relationship:\n",
    "class engine:  #class1\n",
    "    a=10  #static variable\n",
    "    def __init__(self):\n",
    "        self.b=20  #instance variable\n",
    "    def m1(self):  #instance method\n",
    "        print(\"Engine is an main part of car\")\n",
    "        \n",
    "class car: #class2\n",
    "    def __init__(self):  #instance method\n",
    "        self.engine=engine()  #engineis instance variable\n",
    "    def m2(self):\n",
    "        print(\"Car class is using engine class functionality\")\n",
    "        print(self.engine.a)\n",
    "        print(self.engine.b)\n",
    "        self.engine.m1()\n",
    "        \n",
    "c=car()  #c is object reference variable\n",
    "c.m2()"
   ]
  },
  {
   "cell_type": "code",
   "execution_count": 2,
   "metadata": {},
   "outputs": [
    {
     "name": "stdout",
     "output_type": "stream",
     "text": [
      "Car class is using engine class functionality\n",
      "30\n",
      "20\n",
      "Engine is an main part of car\n"
     ]
    }
   ],
   "source": [
    "#Example pgm for Has-A Relationship:\n",
    "class engine:  #class1\n",
    "    a=10  #static variable\n",
    "    def __init__(self):\n",
    "        self.b=20  #instance variable\n",
    "    def m1(self):  #instance method\n",
    "        print(\"Engine is an main part of car\")\n",
    "        \n",
    "class car: #class2\n",
    "    def __init__(self):  #instance method\n",
    "        self.engine=engine()  #engineis instance variable\n",
    "    def m2(self):\n",
    "        print(\"Car class is using engine class functionality\")\n",
    "        print(self.engine.a+self.engine.b)\n",
    "        print(self.engine.b)\n",
    "        self.engine.m1()\n",
    "        \n",
    "c=car()  #c is object reference variable\n",
    "c.m2()"
   ]
  },
  {
   "cell_type": "code",
   "execution_count": 3,
   "metadata": {},
   "outputs": [
    {
     "name": "stdout",
     "output_type": "stream",
     "text": [
      "Employee name: Venky\n",
      "Employee eno: 1008\n",
      "Employee Car information:\n",
      "Car name: BMW\n",
      "Car model: CD-501i\n",
      "Car color: Black\n"
     ]
    }
   ],
   "source": [
    "#Example pgm\n",
    "class car:\n",
    "    def __init__(self,name,model,color):\n",
    "        self.name=name\n",
    "        self.model=model\n",
    "        self.color=color\n",
    "    def info(self):\n",
    "        print(\"Car name:\",self.name)\n",
    "        print(\"Car model:\",self.model)\n",
    "        print(\"Car color:\",self.color)\n",
    "class employee:\n",
    "    def __init__(self,ename,eno,car):\n",
    "        self.ename=ename\n",
    "        self.eno=eno\n",
    "        self.car=car\n",
    "    def einfo(self):\n",
    "        print(\"Employee name:\",self.ename)\n",
    "        print(\"Employee eno:\",self.eno)\n",
    "        print(\"Employee Car information:\")\n",
    "        self.car.info()  #self.car is instance variable\n",
    "        \n",
    "c=car(\"BMW\",\"CD-501i\",\"Black\")\n",
    "e=employee(\"Venky\",1008,c)\n",
    "e.einfo()"
   ]
  },
  {
   "cell_type": "code",
   "execution_count": 5,
   "metadata": {},
   "outputs": [
    {
     "name": "stdout",
     "output_type": "stream",
     "text": [
      "a value of class x in class y: 10\n",
      "b value of class x in class y: 20\n",
      "m1 method of x class\n",
      "c value of class y is: 30\n",
      "d value of class y is: 40\n",
      "m2 method of y class\n",
      "m2 method of class y\n"
     ]
    }
   ],
   "source": [
    "#Example pgm-3\n",
    "class x:\n",
    "    a=10\n",
    "    def __init__(self):\n",
    "        self.b=20\n",
    "    def m1(self):\n",
    "        print(\"m1 method of x class\")\n",
    "class y:\n",
    "    c=30\n",
    "    def __init__(self):\n",
    "        self.d=40\n",
    "    def m2(self):\n",
    "        print(\"m2 method of y class\")\n",
    "    def m3(self):\n",
    "        x1=x()  #x1=object reference variable\n",
    "        print(\"a value of class x in class y:\",x1.a)\n",
    "        print(\"b value of class x in class y:\",x1.b)\n",
    "        x1.m1()  #calling of m1 of class x in class y with object reference variable\n",
    "        print(\"c value of class y is:\",y.c)  # or print(\"c value of class y is:\",self.c)\n",
    "        print(\"d value of class y is:\",self.d)\n",
    "        self.m2()  #or y1.m2()\n",
    "        print(\"m2 method of class y\")\n",
    "y1=y()\n",
    "y1.m3()"
   ]
  },
  {
   "cell_type": "markdown",
   "metadata": {},
   "source": [
    "### 2. By Inheritance (Is-A Relationship)"
   ]
  },
  {
   "cell_type": "markdown",
   "metadata": {},
   "source": [
    "- Whatever the variables, methods, constructors available in parent class by default available to child and we are not \n",
    "required to rewrite.\n",
    "- We can extend the functionality with some more extra functionality."
   ]
  },
  {
   "cell_type": "code",
   "execution_count": 8,
   "metadata": {},
   "outputs": [
    {
     "name": "stdout",
     "output_type": "stream",
     "text": [
      "a value of parent class: 10\n",
      "b value of parent class: 20\n",
      "Parent instance method\n",
      "Parent class method\n",
      "Parent class static method\n"
     ]
    }
   ],
   "source": [
    "class parent:\n",
    "    a=10\n",
    "    def __init__(self):\n",
    "        self.b=20\n",
    "    def m1(self):\n",
    "        print(\"Parent instance method\")\n",
    "    @classmethod\n",
    "    def m2(cls):\n",
    "        print(\"Parent class method\")\n",
    "    @staticmethod\n",
    "    def m3():\n",
    "        print(\"Parent class static method\")\n",
    "class child(parent):\n",
    "    pass #if no statements are there to write then we should write pass but shouldn't leftas empty\n",
    "c=child()\n",
    "print(\"a value of parent class:\",c.a)\n",
    "print(\"b value of parent class:\",c.b)\n",
    "c.m1()\n",
    "c.m2()\n",
    "c.m3()"
   ]
  },
  {
   "cell_type": "markdown",
   "metadata": {},
   "source": [
    "If there is no constructor for child class then parent class constructor will be executed but object will not be created for parent class."
   ]
  },
  {
   "cell_type": "markdown",
   "metadata": {},
   "source": [
    "## Is-A Vs Has-A Relationship"
   ]
  },
  {
   "cell_type": "markdown",
   "metadata": {},
   "source": [
    "1. If we want to extend the existing functionality with some more extra functionality then we should go for Is-A Relationship.\n",
    "2. If we dont want to extend and just we have to use the existing functionality then we should go for Has-A Relationship."
   ]
  },
  {
   "cell_type": "code",
   "execution_count": 26,
   "metadata": {},
   "outputs": [
    {
     "name": "stdout",
     "output_type": "stream",
     "text": [
      "Drink Beer and Eat Biryani\n",
      "Python Application developer at Venkys IT\n",
      "Employee Name: Tanuja\n",
      "Employee Age: 21\n",
      "Employee Number: 1024\n",
      "Employee Salary: 25000\n",
      "Car Information:\n",
      "Car Name: BMW\n",
      "Car Model: VX-3.8D\n",
      "Car Color: Blue\n"
     ]
    }
   ],
   "source": [
    "class car:\n",
    "    def __init__(self,name,model,color):\n",
    "        self.name=name\n",
    "        self.model=model\n",
    "        self.color=color\n",
    "    def carinfo(self):\n",
    "        print(\"Car Name:\",self.name)\n",
    "        print(\"Car Model:\",self.model)\n",
    "        print(\"Car Color:\",self.color)\n",
    "\n",
    "class person:\n",
    "    def __init__(self,name,salary):\n",
    "        self.name=name\n",
    "        self.salary=salary\n",
    "    def eatanddrink(self):\n",
    "        print(\"Drink Beer and Eat Biryani\")\n",
    "\n",
    "class employee(person):\n",
    "    def __init__(self,name,age,eno,esal,car):\n",
    "        super().__init__(name,age)\n",
    "        self.age=age\n",
    "        self.eno=eno\n",
    "        self.esal=esal\n",
    "        self.car=car\n",
    "    def work(self):\n",
    "        print(\"Python Application developer at Venkys IT\")\n",
    "    def einfo(self):\n",
    "        print(\"Employee Name:\",self.name)\n",
    "        print(\"Employee Age:\",self.age)\n",
    "        print(\"Employee Number:\",self.eno)\n",
    "        print(\"Employee Salary:\",self.esal)\n",
    "        print(\"Car Information:\")\n",
    "        self.car.carinfo()\n",
    "c=car(\"BMW\",\"VX-3.8D\",\"Blue\")\n",
    "e=employee(\"Tanuja\",21,1024,25000,c)\n",
    "e.eatanddrink()\n",
    "e.work()\n",
    "e.einfo()\n",
    "#car and employee- Has-A Relationship\n",
    "#person and employee- Is-A Relationship"
   ]
  },
  {
   "cell_type": "code",
   "execution_count": 23,
   "metadata": {},
   "outputs": [
    {
     "name": "stdout",
     "output_type": "stream",
     "text": [
      "Drink Beer and Eat Biryani\n",
      "Python Application developer at Venkys IT\n",
      "Employee Name: Tanuja\n",
      "Employee Age: 21\n",
      "Employee Number: 1024\n",
      "Employee Salary: 25000\n",
      "Car Information:\n",
      "Car Name: BMW\n",
      "Car Model: VX-3.8D\n",
      "Car Color: Blue\n",
      "Employee Name: Sai\n",
      "Employee Age: 24\n",
      "Employee Number: 525\n",
      "Employee Salary: 95000\n",
      "Car Information:\n",
      "Car Name: Audi\n",
      "Car Model: BN-9\n",
      "Car Color: White\n"
     ]
    }
   ],
   "source": [
    "class car:\n",
    "    def __init__(self,name,model,color):\n",
    "        self.name=name\n",
    "        self.model=model\n",
    "        self.color=color\n",
    "    def carinfo(self):\n",
    "        print(\"Car Name:\",self.name)\n",
    "        print(\"Car Model:\",self.model)\n",
    "        print(\"Car Color:\",self.color)\n",
    "\n",
    "class person:\n",
    "    def __init__(self,name,age):\n",
    "        self.name=name\n",
    "        self.age=age\n",
    "    def eatanddrink(self):\n",
    "        print(\"Drink Beer and Eat Biryani\")\n",
    "\n",
    "class employee(person):\n",
    "    def __init__(self,name,age,eno,esal,car):\n",
    "        super().__init__(name,age)\n",
    "        self.eno=eno\n",
    "        self.esal=esal\n",
    "        self.car=car\n",
    "    def work(self):\n",
    "        print(\"Python Application developer at Venkys IT\")\n",
    "    def einfo(self):\n",
    "        print(\"Employee Name:\",self.name)\n",
    "        print(\"Employee Age:\",self.age)\n",
    "        print(\"Employee Number:\",self.eno)\n",
    "        print(\"Employee Salary:\",self.esal)\n",
    "        print(\"Car Information:\")\n",
    "        self.car.carinfo()\n",
    "c=car(\"BMW\",\"VX-3.8D\",\"Blue\")\n",
    "c1=car(\"Audi\",\"BN-9\",\"White\")\n",
    "e=employee(\"Tanuja\",21,1024,25000,c)\n",
    "e1=employee(\"Sai\",24,525,95000,c1)\n",
    "e.eatanddrink()\n",
    "e.work()\n",
    "e.einfo()\n",
    "e1.einfo()"
   ]
  },
  {
   "cell_type": "markdown",
   "metadata": {},
   "source": [
    "## Composition Vs Aggregation"
   ]
  },
  {
   "cell_type": "markdown",
   "metadata": {},
   "source": [
    "### Composition"
   ]
  },
  {
   "cell_type": "markdown",
   "metadata": {},
   "source": [
    "Without existing of container object if there is no chance of existing of contained object then container object and contained objects are strongly associated and that strong association is called Composition."
   ]
  },
  {
   "cell_type": "markdown",
   "metadata": {},
   "source": [
    "### Aggregation"
   ]
  },
  {
   "cell_type": "markdown",
   "metadata": {},
   "source": [
    "Without existing of container object if there is a chance of existing contained object then container and contained objects are weakly associated is called Aggregation. "
   ]
  },
  {
   "cell_type": "code",
   "execution_count": 27,
   "metadata": {},
   "outputs": [
    {
     "name": "stdout",
     "output_type": "stream",
     "text": [
      "JNTUH\n",
      "Tanuja\n"
     ]
    }
   ],
   "source": [
    "#Example pgm for composition and aggregation\n",
    "class student:\n",
    "    collegename=\"JNTUH\"\n",
    "    def __init__(self,name):\n",
    "        self.name=name\n",
    "print(student.collegename)\n",
    "s=student(\"Tanuja\")\n",
    "print(s.name)\n",
    "#collegename and student are weakly associated\n",
    "#name and classname i.e., student are strongly associated"
   ]
  },
  {
   "cell_type": "markdown",
   "metadata": {},
   "source": [
    "## Types of Inheritance"
   ]
  },
  {
   "cell_type": "markdown",
   "metadata": {},
   "source": [
    "### 1. Single Inheritance"
   ]
  },
  {
   "cell_type": "markdown",
   "metadata": {},
   "source": [
    "Inheriting the properties of one class(parent class) to another class(child class) is called single inheritance."
   ]
  },
  {
   "cell_type": "code",
   "execution_count": null,
   "metadata": {},
   "outputs": [],
   "source": [
    "     parent class \n",
    "         |\n",
    "         |\n",
    "     Child class"
   ]
  },
  {
   "cell_type": "code",
   "execution_count": 28,
   "metadata": {},
   "outputs": [
    {
     "name": "stdout",
     "output_type": "stream",
     "text": [
      "Parent class method1\n",
      "Child class method2\n"
     ]
    }
   ],
   "source": [
    "class P:\n",
    "    def m1(self):\n",
    "        print(\"Parent class method1\")\n",
    "class C(P):\n",
    "    def m2(self):\n",
    "        print(\"Child class method2\")\n",
    "c=C()\n",
    "c.m1()\n",
    "c.m2()"
   ]
  },
  {
   "cell_type": "markdown",
   "metadata": {},
   "source": [
    "### 2. Multilevel Inheritance"
   ]
  },
  {
   "cell_type": "markdown",
   "metadata": {},
   "source": [
    "The concept of inheriting the properties from multiple classes to single class is called multilevel inheritance."
   ]
  },
  {
   "cell_type": "code",
   "execution_count": null,
   "metadata": {},
   "outputs": [],
   "source": [
    "         Parent class\n",
    "               |\n",
    "               |\n",
    "         Child class1  #parent to the child class2\n",
    "               |       \n",
    "               |\n",
    "         Child class2"
   ]
  },
  {
   "cell_type": "code",
   "execution_count": 31,
   "metadata": {},
   "outputs": [
    {
     "name": "stdout",
     "output_type": "stream",
     "text": [
      "Parent class method\n",
      "Child class method\n",
      "Child2 class method\n"
     ]
    }
   ],
   "source": [
    "class P:\n",
    "    def m1(self):\n",
    "        print(\"Parent class method\")\n",
    "class C1(P):\n",
    "    def m2(self):\n",
    "        print(\"Child class method\")\n",
    "class C2(C1):\n",
    "    def m3(self):\n",
    "        print(\"Child2 class method\")\n",
    "c=C2()\n",
    "c.m1()\n",
    "c.m2()\n",
    "c.m3()"
   ]
  },
  {
   "cell_type": "markdown",
   "metadata": {},
   "source": [
    "### 3. Hierarchical Inheritance"
   ]
  },
  {
   "cell_type": "code",
   "execution_count": null,
   "metadata": {},
   "outputs": [],
   "source": [
    "            parent class\n",
    "                 |\n",
    "                 |\n",
    "   child class1     child class2"
   ]
  },
  {
   "cell_type": "markdown",
   "metadata": {},
   "source": [
    "The concept of inheriting the properties from one class (parent class) to multiple classes(child classes) which are present at same level is known as Hierarchical Inheritance."
   ]
  },
  {
   "cell_type": "code",
   "execution_count": 1,
   "metadata": {},
   "outputs": [
    {
     "name": "stdout",
     "output_type": "stream",
     "text": [
      "parent class method\n",
      "Child class1 method\n",
      "parent class method\n",
      "Child class2 method\n"
     ]
    }
   ],
   "source": [
    "#Example pgm for Hierarchical Inheritance\n",
    "class P:\n",
    "    def m1(self):\n",
    "        print(\"parent class method\")\n",
    "class C1(P):\n",
    "    def m2(self):\n",
    "        print(\"Child class1 method\")\n",
    "class C2(P):\n",
    "    def m3(self):\n",
    "        print(\"Child class2 method\")\n",
    "c1=C1()\n",
    "c1.m1()\n",
    "c1.m2()\n",
    "c2=C2()\n",
    "c2.m1()\n",
    "c2.m3()"
   ]
  },
  {
   "cell_type": "markdown",
   "metadata": {},
   "source": [
    "### 4. Multiple Inheritance"
   ]
  },
  {
   "cell_type": "code",
   "execution_count": null,
   "metadata": {},
   "outputs": [],
   "source": [
    "   Parent class1    parent class2\n",
    "                 |\n",
    "                 |\n",
    "            Child class"
   ]
  },
  {
   "cell_type": "markdown",
   "metadata": {},
   "source": [
    "The concept of inheriting the properties from multiple classes(parent classes) into single class(child class) at a time is known as multiple inheritance."
   ]
  },
  {
   "cell_type": "code",
   "execution_count": 2,
   "metadata": {},
   "outputs": [
    {
     "name": "stdout",
     "output_type": "stream",
     "text": [
      "Parent class1 method\n",
      "Parent class2 method\n",
      "Child class method\n"
     ]
    }
   ],
   "source": [
    "#Example pgm for multiple inheritance\n",
    "class P1:\n",
    "    def m1(self):\n",
    "        print(\"Parent class1 method\")\n",
    "class P2:\n",
    "    def m2(self):\n",
    "        print(\"Parent class2 method\")\n",
    "class C(P1,P2):\n",
    "    def m3(self):\n",
    "        print(\"Child class method\")\n",
    "c=C()\n",
    "c.m1()\n",
    "c.m2()\n",
    "c.m3()"
   ]
  },
  {
   "cell_type": "code",
   "execution_count": 3,
   "metadata": {},
   "outputs": [
    {
     "name": "stdout",
     "output_type": "stream",
     "text": [
      "Parent class1 method\n",
      "Parent class2 method\n",
      "Child class method\n"
     ]
    }
   ],
   "source": [
    "#Example pgm for multiple inheritance\n",
    "class P1:\n",
    "    def m1(self):\n",
    "        print(\"Parent class1 method\")\n",
    "class P2:\n",
    "    def m2(self):\n",
    "        print(\"Parent class2 method\")\n",
    "class C(P2,P1):\n",
    "    def m3(self):\n",
    "        print(\"Child class method\")\n",
    "c=C()\n",
    "c.m1()\n",
    "c.m2()\n",
    "c.m3()"
   ]
  },
  {
   "cell_type": "markdown",
   "metadata": {},
   "source": [
    "### 5. Hydrid Inheritance"
   ]
  },
  {
   "cell_type": "code",
   "execution_count": null,
   "metadata": {},
   "outputs": [],
   "source": [
    "    A(P1)     B(P2)      C(P3)\n",
    "             |\n",
    "             |\n",
    "             D C(P1,P2,P3)\n",
    "             |\n",
    "             |\n",
    "             E  E(D)\n",
    "             |\n",
    "             | \n",
    "             F  F(E)\n",
    "             |\n",
    "             |\n",
    "      G G(F)     H H(F)"
   ]
  },
  {
   "cell_type": "markdown",
   "metadata": {},
   "source": [
    "The combination of other inheritances is known as Hybrid Inheritance."
   ]
  },
  {
   "cell_type": "markdown",
   "metadata": {},
   "source": [
    "### 6. Cyclic Inheritance"
   ]
  },
  {
   "cell_type": "markdown",
   "metadata": {},
   "source": [
    "The concept of inheriting the properties of one class to other class in cyclic way, but its not possible in python."
   ]
  },
  {
   "cell_type": "code",
   "execution_count": 4,
   "metadata": {},
   "outputs": [
    {
     "ename": "NameError",
     "evalue": "name 'B' is not defined",
     "output_type": "error",
     "traceback": [
      "\u001b[1;31m---------------------------------------------------------------------------\u001b[0m",
      "\u001b[1;31mNameError\u001b[0m                                 Traceback (most recent call last)",
      "\u001b[1;32m<ipython-input-4-b9551c64f5fc>\u001b[0m in \u001b[0;36m<module>\u001b[1;34m\u001b[0m\n\u001b[1;32m----> 1\u001b[1;33m \u001b[1;32mclass\u001b[0m \u001b[0mA\u001b[0m\u001b[1;33m(\u001b[0m\u001b[0mB\u001b[0m\u001b[1;33m)\u001b[0m\u001b[1;33m:\u001b[0m\u001b[1;33m\u001b[0m\u001b[1;33m\u001b[0m\u001b[0m\n\u001b[0m\u001b[0;32m      2\u001b[0m     \u001b[1;32mpass\u001b[0m\u001b[1;33m\u001b[0m\u001b[1;33m\u001b[0m\u001b[0m\n\u001b[0;32m      3\u001b[0m \u001b[1;32mclass\u001b[0m \u001b[0mB\u001b[0m\u001b[1;33m(\u001b[0m\u001b[0mA\u001b[0m\u001b[1;33m)\u001b[0m\u001b[1;33m:\u001b[0m\u001b[1;33m\u001b[0m\u001b[1;33m\u001b[0m\u001b[0m\n\u001b[0;32m      4\u001b[0m     \u001b[1;32mpass\u001b[0m\u001b[1;33m\u001b[0m\u001b[1;33m\u001b[0m\u001b[0m\n",
      "\u001b[1;31mNameError\u001b[0m: name 'B' is not defined"
     ]
    }
   ],
   "source": [
    "class A(B):\n",
    "    pass\n",
    "class B(A):\n",
    "    pass"
   ]
  },
  {
   "cell_type": "code",
   "execution_count": 5,
   "metadata": {},
   "outputs": [
    {
     "ename": "NameError",
     "evalue": "name 'A' is not defined",
     "output_type": "error",
     "traceback": [
      "\u001b[1;31m---------------------------------------------------------------------------\u001b[0m",
      "\u001b[1;31mNameError\u001b[0m                                 Traceback (most recent call last)",
      "\u001b[1;32m<ipython-input-5-80814c614550>\u001b[0m in \u001b[0;36m<module>\u001b[1;34m\u001b[0m\n\u001b[1;32m----> 1\u001b[1;33m \u001b[1;32mclass\u001b[0m \u001b[0mA\u001b[0m\u001b[1;33m(\u001b[0m\u001b[0mA\u001b[0m\u001b[1;33m)\u001b[0m\u001b[1;33m:\u001b[0m\u001b[1;33m\u001b[0m\u001b[1;33m\u001b[0m\u001b[0m\n\u001b[0m\u001b[0;32m      2\u001b[0m     \u001b[1;32mpass\u001b[0m\u001b[1;33m\u001b[0m\u001b[1;33m\u001b[0m\u001b[0m\n",
      "\u001b[1;31mNameError\u001b[0m: name 'A' is not defined"
     ]
    }
   ],
   "source": [
    "class A(A):\n",
    "    pass"
   ]
  },
  {
   "cell_type": "markdown",
   "metadata": {},
   "source": [
    "## Method Resolution Order(MRO) - c3 algorithm"
   ]
  },
  {
   "cell_type": "markdown",
   "metadata": {},
   "source": [
    "1. Depth first left to right(DLR)\n",
    "2. This concept is used in Networking business."
   ]
  },
  {
   "cell_type": "code",
   "execution_count": null,
   "metadata": {},
   "outputs": [],
   "source": [
    "              A (P)\n",
    "              |\n",
    "              |\n",
    "       B(C1)       C(C2)\n",
    "        P     |     P\n",
    "              |\n",
    "              D(C)\n",
    "                \n",
    "For D, Left parent i.e., B will have more pripority than right parent(C). Simirarily to child classes"
   ]
  },
  {
   "cell_type": "markdown",
   "metadata": {},
   "source": [
    "MRO(X)=X+merge(MRO(P1),MRO(P2))"
   ]
  },
  {
   "cell_type": "code",
   "execution_count": 6,
   "metadata": {},
   "outputs": [
    {
     "name": "stdout",
     "output_type": "stream",
     "text": [
      "[<class '__main__.A'>, <class 'object'>]\n",
      "[<class '__main__.B'>, <class '__main__.A'>, <class 'object'>]\n",
      "[<class '__main__.C'>, <class '__main__.A'>, <class 'object'>]\n",
      "[<class '__main__.D'>, <class '__main__.B'>, <class '__main__.C'>, <class '__main__.A'>, <class 'object'>]\n"
     ]
    }
   ],
   "source": [
    "class A:\n",
    "    pass\n",
    "class B(A):\n",
    "    pass\n",
    "class C(A):\n",
    "    pass\n",
    "class D(B,C):\n",
    "    pass\n",
    "print(A.mro())\n",
    "print(B.mro())\n",
    "print(C.mro())\n",
    "print(D.mro())"
   ]
  },
  {
   "cell_type": "markdown",
   "metadata": {},
   "source": [
    "## super() method"
   ]
  },
  {
   "cell_type": "markdown",
   "metadata": {},
   "source": [
    "super() method is inbuilt method which is used to call the super class constructors, variables, methods from child class."
   ]
  },
  {
   "cell_type": "code",
   "execution_count": 8,
   "metadata": {},
   "outputs": [
    {
     "name": "stdout",
     "output_type": "stream",
     "text": [
      "Name is: Tanuja\n",
      "Age is: 21\n",
      "Rollno: 1024\n",
      "Marks: 80\n"
     ]
    }
   ],
   "source": [
    "class person:\n",
    "    def __init__(self,name,age):\n",
    "        self.name=name\n",
    "        self.age=age\n",
    "    def display(self):\n",
    "        print(\"Name is:\",self.name)\n",
    "        print(\"Age is:\",self.age)\n",
    "class student(person):\n",
    "    def __init__(self,name,age,rollno,marks):\n",
    "        super().__init__(name,age)\n",
    "        self.rollno=rollno\n",
    "        self.marks=marks\n",
    "    def display(self):\n",
    "        super().display()\n",
    "        print(\"Rollno:\",self.rollno)\n",
    "        print(\"Marks:\",self.marks)\n",
    "s1=student(\"Tanuja\",21,1024,80)\n",
    "s1.display()"
   ]
  },
  {
   "cell_type": "code",
   "execution_count": null,
   "metadata": {},
   "outputs": [],
   "source": []
  }
 ],
 "metadata": {
  "kernelspec": {
   "display_name": "Python 3",
   "language": "python",
   "name": "python3"
  },
  "language_info": {
   "codemirror_mode": {
    "name": "ipython",
    "version": 3
   },
   "file_extension": ".py",
   "mimetype": "text/x-python",
   "name": "python",
   "nbconvert_exporter": "python",
   "pygments_lexer": "ipython3",
   "version": "3.8.3"
  }
 },
 "nbformat": 4,
 "nbformat_minor": 4
}
